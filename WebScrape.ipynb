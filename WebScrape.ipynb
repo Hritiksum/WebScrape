{
  "nbformat": 4,
  "nbformat_minor": 0,
  "metadata": {
    "colab": {
      "name": "WebDetails.ipynb",
      "provenance": [],
      "collapsed_sections": []
    },
    "kernelspec": {
      "name": "python3",
      "display_name": "Python 3"
    }
  },
  "cells": [
    {
      "cell_type": "code",
      "metadata": {
        "id": "Ik-99iHqD3q6",
        "colab_type": "code",
        "colab": {}
      },
      "source": [
        "#page description\n",
        "def get_description(html):\n",
        "  description = None\n",
        "  if html.find(\"meta\", property=\"description\"):\n",
        "      description = html.find(\"meta\", property=\"description\").get('content')\n",
        "  elif html.find(\"meta\", property=\"og:description\"):\n",
        "      description = html.find(\"meta\", property=\"og:description\").get('content')\n",
        "  elif html.find(\"meta\", property=\"twitter:description\"):\n",
        "      description = html.find(\"meta\", property=\"twitter:description\").get('content')\n",
        "  elif html.find(\"p\"):\n",
        "      description = html.find(\"p\").contents\n",
        "  return description\n",
        "\n",
        "#page title\n",
        "def get_title(html):\n",
        "  title = None\n",
        "  if html.title.string:\n",
        "      title = html.title.string\n",
        "  elif html.find(\"meta\", property=\"og:title\"):\n",
        "      title = html.find(\"meta\", property=\"og:title\").get('content')\n",
        "  elif html.find(\"meta\", property=\"twitter:title\"):\n",
        "      title = html.find(\"meta\", property=\"twitter:title\").get('content')\n",
        "  elif html.find(\"h1\"):\n",
        "      title = html.find(\"h1\").string\n",
        "  return title\n",
        "\n",
        "#website name\n",
        "def get_site_name(html, url):\n",
        "  if html.find(\"meta\", property=\"og:site_name\"):\n",
        "      site_name = html.find(\"meta\", property=\"og:site_name\").get('content')\n",
        "  elif html.find(\"meta\", property='twitter:title'):\n",
        "      site_name = html.find(\"meta\", property=\"twitter:title\").get('content')\n",
        "  else:\n",
        "      site_name = url.split('//')[1]\n",
        "      return site_name.split('/')[0].rsplit('.')[1].capitalize()\n",
        "  return site_name\n",
        "\n",
        "#found Privacy Policy\n",
        "def get_privacypolicy(html):\n",
        "  if(html.find('Privacy Policy')!=-1) or (html.find('Privacy policy')!=-1) :\n",
        "    return True\n",
        "  else:\n",
        "    return False\n",
        "\n",
        "#found TOS\n",
        "def get_TermsOfService(html):\n",
        "  if(html.find('Terms of Service')!=-1) or (html.find('Terms of service')!=-1) or (html.find('Terms Of Service')!=-1) or (html.find('Service Terms')!=-1):\n",
        "    return True\n",
        "  else:\n",
        "    return False\n",
        "\n",
        "#Found copyright\n",
        "def get_Copyright(html):\n",
        "  if(html.find('Copyright Policy')!=-1) or (html.find('Copyright policy')!=-1):\n",
        "    return True\n",
        "  else:\n",
        "    return False\n",
        "\n",
        "def get_allDetails(html,url):\n",
        "  if(get_site_name(html,url)!=-1):\n",
        "    print(\"Website name: \",get_site_name(html,url))\n",
        "  if(get_title(html)!=-1):\n",
        "    print(\"Page title: \",get_title(html))\n",
        "  if(get_description(html)!=-1):\n",
        "    print(\"website Description: \",get_description(html))\n",
        "  if(get_privacypolicy(html)!=-1):\n",
        "    print(\"Found Privacy Policy: \",get_privacypolicy(html))\n",
        "  if(get_TermsOfService(html)!=-1):\n",
        "    print(\"Found Terms_Of_services: \",get_TermsOfService(html))\n",
        "  if(get_Copyright(html)!=-1):\n",
        "    print(\"Found copyright: \",get_Copyright(html))"
      ],
      "execution_count": 1,
      "outputs": []
    },
    {
      "cell_type": "code",
      "metadata": {
        "id": "9p50GD6qhBLP",
        "colab_type": "code",
        "colab": {
          "base_uri": "https://localhost:8080/",
          "height": 34
        },
        "outputId": "74a13951-a893-4c43-cee0-411d7675e363"
      },
      "source": [
        "!pip install BeautifulSoup4"
      ],
      "execution_count": 2,
      "outputs": [
        {
          "output_type": "stream",
          "text": [
            "Requirement already satisfied: BeautifulSoup4 in /usr/local/lib/python3.6/dist-packages (4.6.3)\n"
          ],
          "name": "stdout"
        }
      ]
    },
    {
      "cell_type": "code",
      "metadata": {
        "id": "MTTWFuXkhG7r",
        "colab_type": "code",
        "colab": {}
      },
      "source": [
        "from bs4 import BeautifulSoup\n",
        "import requests"
      ],
      "execution_count": 3,
      "outputs": []
    },
    {
      "cell_type": "code",
      "metadata": {
        "id": "xvB3iabNiTfN",
        "colab_type": "code",
        "colab": {}
      },
      "source": [
        "url='https://tech.hindustantimes.com/tech/news/google-removes-25-android-apps-that-stole-your-facebook-credentials-and-were-downloaded-over-2-million-times-71593866268067.html'"
      ],
      "execution_count": 15,
      "outputs": []
    },
    {
      "cell_type": "code",
      "metadata": {
        "id": "x9cfqO1Li1rv",
        "colab_type": "code",
        "colab": {
          "base_uri": "https://localhost:8080/",
          "height": 139
        },
        "outputId": "439b8562-ba3c-4adc-eff3-ac7d0ad87796"
      },
      "source": [
        "try:\n",
        "  response = requests.get(url)\n",
        "  html = BeautifulSoup(response.content, \"html.parser\")\n",
        "  get_allDetails(html,url)\n",
        "except:\n",
        "  print (\"Details not found\")  \n",
        "  print(html)"
      ],
      "execution_count": 16,
      "outputs": [
        {
          "output_type": "stream",
          "text": [
            "Website name:  Hindustan Times Tech\n",
            "Page title:  Google removes apps that stole your Facebook credentials: Here’s the list\n",
            "website Description:  While some were step counters, image editors, video editor apps, others were wallpaper apps, flashlight applications, file managers, and mobile games.\n",
            "Found Privacy Policy:  True\n",
            "Found Terms_Of_services:  True\n",
            "Found copyright:  True\n"
          ],
          "name": "stdout"
        }
      ]
    },
    {
      "cell_type": "markdown",
      "metadata": {
        "id": "zWIoQj5ZdczT",
        "colab_type": "text"
      },
      "source": [
        "Adv detection"
      ]
    },
    {
      "cell_type": "code",
      "metadata": {
        "id": "r2-A9u40cliu",
        "colab_type": "code",
        "colab": {
          "base_uri": "https://localhost:8080/",
          "height": 34
        },
        "outputId": "9b031a56-a758-4e64-f109-870038972fdc"
      },
      "source": [
        "ads_div = html.find('div', attrs={'class': 'ads'})\n",
        "print(ads_div)"
      ],
      "execution_count": null,
      "outputs": [
        {
          "output_type": "stream",
          "text": [
            "None\n"
          ],
          "name": "stdout"
        }
      ]
    }
  ]
}
